{
 "cells": [
  {
   "cell_type": "code",
   "execution_count": 1,
   "metadata": {},
   "outputs": [],
   "source": [
    "from SPARQLWrapper import SPARQLWrapper, JSON, XML\n",
    "import ssl\n",
    "import pandas as pd\n",
    "import urllib.request\n",
    "from PIL import Image\n",
    "import time\n",
    "import shutil\n",
    "import requests\n",
    "\n"
   ]
  },
  {
   "cell_type": "code",
   "execution_count": 2,
   "metadata": {},
   "outputs": [],
   "source": [
    "ssl._create_default_https_context = ssl._create_unverified_context"
   ]
  },
  {
   "cell_type": "code",
   "execution_count": 15,
   "metadata": {},
   "outputs": [
    {
     "name": "stdout",
     "output_type": "stream",
     "text": [
      "dict_keys(['distinct', 'ordered', 'bindings'])\n"
     ]
    },
    {
     "data": {
      "text/plain": [
       "\"http://commons.wikimedia.org/wiki/Special:FilePath/Flag_of_Côte_d'Ivoire.svg?width=300\""
      ]
     },
     "execution_count": 15,
     "metadata": {},
     "output_type": "execute_result"
    }
   ],
   "source": [
    "sparql = SPARQLWrapper(\"http://dbpedia.org/sparql\")\n",
    "sparql.setQuery(\"\"\"\n",
    "    SELECT DISTINCT ?country  ?capital ?country_name ?capital_name ?country_flag ?country_abstract\n",
    "    WHERE {\n",
    "      ?country a yago:WikicatCountries , dbo:Country.\n",
    "      ?country dbo:capital ?capital.\n",
    "      ?country rdfs:label ?country_name.\n",
    "      ?capital rdfs:label ?capital_name.\n",
    "      ?country dbo:thumbnail ?country_flag.\n",
    "      ?country dbo:abstract ? ?country_abstract.\n",
    "\n",
    "      FILTER(lang(?country_name) = 'en')\n",
    "      FILTER(lang(?capital_name) = 'en')\n",
    "      FILTER(lang(?country_abstract) = 'en')\n",
    "\n",
    "    } \n",
    "    \n",
    "    ORDER BY ?country\n",
    "        \n",
    "\"\"\")\n",
    "sparql.setReturnFormat(JSON)\n",
    "results = sparql.query().convert()\n",
    "\n",
    "print(results[\"results\"].keys())\n",
    "\n",
    "d = {\n",
    "     \"Country_uri\" : [],\n",
    "     \"Country_name\" : [],\n",
    "     \"Country_flag\" : [], \n",
    "     \"Capital_uri\" : [], \n",
    "     \"Capital_name\" : [], \n",
    "     \"Country_abstract\" : []\n",
    "    }\n",
    "\n",
    "for result in results[\"results\"][\"bindings\"]:\n",
    "  d[\"Country_uri\"].append(result[\"country\"][\"value\"])\n",
    "  d[\"Country_name\"].append(result[\"country_name\"][\"value\"])\n",
    "  d[\"Country_flag\"].append(result[\"country_flag\"][\"value\"])\n",
    "  d[\"Capital_uri\"].append(result[\"capital\"][\"value\"])\n",
    "  d[\"Capital_name\"].append(result[\"capital_name\"][\"value\"])\n",
    "  d[\"Country_abstract\"].append(result[\"country_abstract\"][\"value\"])\n",
    "\n",
    "df_cities = pd.DataFrame(d)\n",
    "\n",
    "df_cities[\"Country_flag\"][74]\n",
    "\n"
   ]
  },
  {
   "cell_type": "code",
   "execution_count": 4,
   "metadata": {},
   "outputs": [
    {
     "name": "stdout",
     "output_type": "stream",
     "text": [
      "Pays : Albania\n",
      "Capitale : Tirana\n"
     ]
    }
   ],
   "source": [
    "#Printing random country with capital and flag\n",
    "\n",
    "row = df_cities.sample(ignore_index=True).iloc[0]\n",
    "country_name = row.loc[\"Country_name\"]\n",
    "country_capital = row[\"Capital_name\"]\n",
    "flag_link = row[\"Country_flag\"]\n",
    "\n",
    "print(f\"Pays : {country_name}\")\n",
    "print(f\"Capitale : {country_capital}\")\n",
    "  \n",
    "urllib.request.urlretrieve(flag_link, \"temp_flag.png\")\n",
    "  \n",
    "img = Image.open(\"temp_flag.png\")\n",
    "img.show()\n"
   ]
  },
  {
   "cell_type": "code",
   "execution_count": 5,
   "metadata": {},
   "outputs": [],
   "source": [
    "from urllib.parse import urlsplit, urlunsplit, quote\n",
    "\n",
    "def iri2uri(iri):\n",
    "    \"\"\"\n",
    "    Convert an IRI to a URI\n",
    "    \"\"\"\n",
    "    uri = ''\n",
    "    if isinstance(iri, str):\n",
    "        (scheme, netloc, path, query, fragment) = urlsplit(iri)\n",
    "        scheme = quote(scheme)\n",
    "        netloc = netloc.encode('idna').decode('utf-8')\n",
    "        path = quote(path)\n",
    "        query = quote(query)\n",
    "        fragment = quote(fragment)\n",
    "        uri = urlunsplit((scheme, netloc, path, query, fragment))\n",
    "\n",
    "    return uri"
   ]
  },
  {
   "cell_type": "code",
   "execution_count": 6,
   "metadata": {},
   "outputs": [
    {
     "name": "stdout",
     "output_type": "stream",
     "text": [
      "Ivory Coast\n",
      "Ivory Coast\n",
      "Spain\n"
     ]
    }
   ],
   "source": [
    "# Downloading all flags for all countries\n",
    "\n",
    "done = [] # for coutries that appear twice or more in the dataset (multiple capitals)\n",
    "\n",
    "for index, row in df_cities.iterrows():\n",
    "    time.sleep(0.5)\n",
    "    country = row[\"Country_name\"]\n",
    "    if country not in done:\n",
    "        try :\n",
    "            url = row[\"Country_flag\"]\n",
    "            urllib.request.urlretrieve(url, \"./country_flags/\" + country + \"_flag.png\")\n",
    "            done.append(country)\n",
    "        except:\n",
    "            print(country)"
   ]
  },
  {
   "cell_type": "markdown",
   "metadata": {},
   "source": [
    "We can see that we have some problems dealing with Ivory Coast and Spain, until now I have not find a solution so I'll just hardcode those two by downloading manually the flags..."
   ]
  }
 ],
 "metadata": {
  "interpreter": {
   "hash": "877e635d77654b4bbaf40ac73f166c6702f150ac966450346b4e10ac33844dc6"
  },
  "kernelspec": {
   "display_name": "Python 3.9.8 64-bit",
   "language": "python",
   "name": "python3"
  },
  "language_info": {
   "codemirror_mode": {
    "name": "ipython",
    "version": 3
   },
   "file_extension": ".py",
   "mimetype": "text/x-python",
   "name": "python",
   "nbconvert_exporter": "python",
   "pygments_lexer": "ipython3",
   "version": "3.9.8"
  },
  "orig_nbformat": 4
 },
 "nbformat": 4,
 "nbformat_minor": 2
}
